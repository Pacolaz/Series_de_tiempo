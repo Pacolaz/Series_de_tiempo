{
 "cells": [
  {
   "cell_type": "markdown",
   "id": "96d9d637",
   "metadata": {},
   "source": [
    "## Variables para la Regresión Lineal\n",
    "\n",
    "- **Número de suscriptores:** Esta es una métrica clave que afecta directamente los ingresos y el crecimiento de Netflix. Un aumento en los suscriptores generalmente se correlaciona con un aumento en el precio de las acciones.\n",
    "- **Ingresos trimestrales:** Los resultados financieros de la empresa son un indicador directo de su desempeño y afectan la percepción de los inversores.\n",
    "- **Gasto en contenido original:** La inversión en contenido propio es crucial para atraer y retener suscriptores, lo que impacta en el valor de la empresa.\n",
    "- **Tasa de retención de clientes:** Una alta retención indica satisfacción del cliente y potencial de crecimiento sostenido.\n",
    "- **Índice de adopción de streaming:** El crecimiento general del mercado de streaming puede influir en el desempeño de Netflix."
   ]
  },
  {
   "cell_type": "markdown",
   "id": "27671509",
   "metadata": {},
   "source": [
    "**Justificación de las variables:**\n",
    "\n",
    "Estas variables afectan directamente el rendimiento financiero y operativo de Netflix, lo cual se refleja en el precio de sus acciones. El número de suscriptores y los ingresos son indicadores directos del crecimiento de la empresa. El gasto en contenido original es una estrategia clave para la diferenciación y atracción de usuarios. La tasa de retención y el índice de adopción de streaming proporcionan contexto sobre la salud del negocio y el mercado en general."
   ]
  },
  {
   "cell_type": "markdown",
   "id": "f48f7621",
   "metadata": {},
   "source": [
    "**Fuentes de datos:**\n",
    "\n",
    "- Informes trimestrales y anuales de Netflix para suscriptores, ingresos y gasto en contenido.\n",
    "- Informes de mercado de firmas como Nielsen o Statista para tasas de retención y adopción de streaming.\n",
    "- Bases de datos financieras como Yahoo Finance o Bloomberg para precios históricos de acciones."
   ]
  }
 ],
 "metadata": {
  "kernelspec": {
   "display_name": "Python 3 (ipykernel)",
   "language": "python",
   "name": "python3"
  },
  "language_info": {
   "codemirror_mode": {
    "name": "ipython",
    "version": 3
   },
   "file_extension": ".py",
   "mimetype": "text/x-python",
   "name": "python",
   "nbconvert_exporter": "python",
   "pygments_lexer": "ipython3",
   "version": "3.11.5"
  }
 },
 "nbformat": 4,
 "nbformat_minor": 5
}
