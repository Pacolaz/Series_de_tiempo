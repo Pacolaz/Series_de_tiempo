{
 "cells": [
  {
   "cell_type": "code",
   "execution_count": 1,
   "id": "dee91741",
   "metadata": {},
   "outputs": [],
   "source": [
    "import yfinance as yf\n",
    "\n",
    "stock = \"NFLX\"\n",
    "ticker = yf.Ticker(stock)\n",
    "data = ticker.history(start=\"2013-01-01\", end=\"2023-12-31\", interval=\"1mo\")[\"Close\"]"
   ]
  },
  {
   "cell_type": "code",
   "execution_count": 2,
   "id": "c8090288",
   "metadata": {},
   "outputs": [],
   "source": [
    "import pandas as pd\n",
    "import numpy as np\n",
    "import matplotlib.pyplot as plt\n",
    "import seaborn as sns\n",
    "import datetime as dt\n",
    "import scipy as sp"
   ]
  },
  {
   "cell_type": "code",
   "execution_count": 3,
   "id": "05a08e06",
   "metadata": {},
   "outputs": [
    {
     "data": {
      "text/plain": [
       "Date\n",
       "2023-08-01 00:00:00-04:00    433.679993\n",
       "2023-09-01 00:00:00-04:00    377.600006\n",
       "2023-10-01 00:00:00-04:00    411.690002\n",
       "2023-11-01 00:00:00-04:00    473.970001\n",
       "2023-12-01 00:00:00-05:00    486.880005\n",
       "Name: Close, dtype: float64"
      ]
     },
     "execution_count": 3,
     "metadata": {},
     "output_type": "execute_result"
    }
   ],
   "source": [
    "data.tail()"
   ]
  },
  {
   "cell_type": "code",
   "execution_count": 4,
   "id": "9d932f38",
   "metadata": {},
   "outputs": [],
   "source": [
    "training_mask = data.index > '2023-01-01'"
   ]
  },
  {
   "cell_type": "code",
   "execution_count": 5,
   "id": "e2bff7d5",
   "metadata": {},
   "outputs": [],
   "source": [
    "test = data[training_mask]\n",
    "train = data[~training_mask]\n",
    "horizon = len(test)"
   ]
  },
  {
   "cell_type": "code",
   "execution_count": 6,
   "id": "53d33877",
   "metadata": {},
   "outputs": [
    {
     "data": {
      "text/plain": [
       "Date\n",
       "2023-02-01 00:00:00-05:00    322.130005\n",
       "2023-03-01 00:00:00-05:00    345.480011\n",
       "2023-04-01 00:00:00-04:00    329.929993\n",
       "2023-05-01 00:00:00-04:00    395.230011\n",
       "2023-06-01 00:00:00-04:00    440.489990\n",
       "Name: Close, dtype: float64"
      ]
     },
     "execution_count": 6,
     "metadata": {},
     "output_type": "execute_result"
    }
   ],
   "source": [
    "test.head()"
   ]
  },
  {
   "cell_type": "code",
   "execution_count": 7,
   "id": "a8216de9",
   "metadata": {},
   "outputs": [],
   "source": [
    "from statsforecast.models import SeasonalNaive"
   ]
  },
  {
   "cell_type": "code",
   "execution_count": 8,
   "id": "cbdf6a0e",
   "metadata": {},
   "outputs": [
    {
     "data": {
      "text/plain": [
       "array([394.52, 374.59, 190.36, 197.44, 174.87, 224.9 , 223.56, 235.44,\n",
       "       291.88, 305.53, 294.88], dtype=float32)"
      ]
     },
     "execution_count": 8,
     "metadata": {},
     "output_type": "execute_result"
    }
   ],
   "source": [
    "model_sn = SeasonalNaive(season_length=12)\n",
    "model_sn = model_sn.fit(y=train.values)\n",
    "y_hat_dict = model_sn.predict(h=horizon)\n",
    "\n",
    "y_hat_dict['mean']"
   ]
  },
  {
   "cell_type": "code",
   "execution_count": 9,
   "id": "9ac00a61",
   "metadata": {},
   "outputs": [
    {
     "data": {
      "text/plain": [
       "{'fitted': array([       nan,        nan,        nan,        nan,        nan,\n",
       "               nan,        nan,        nan,        nan,        nan,\n",
       "               nan,        nan,  23.605715,  26.86857 ,  27.04    ,\n",
       "         30.867144,  32.32143 ,  30.155714,  34.925713,  40.55857 ,\n",
       "         44.172855,  46.06857 ,  52.25714 ,  52.595715,  58.475716,\n",
       "         63.66143 ,  50.29    ,  46.005714,  59.69    ,  62.942856,\n",
       "         60.388573,  68.23428 ,  64.454285,  56.11    ,  49.512856,\n",
       "         48.80143 ,  63.114285,  67.844284,  59.52714 ,  79.5     ,\n",
       "         89.15143 ,  93.84857 , 114.31    , 115.03    , 103.26    ,\n",
       "        108.38    , 123.33    , 114.38    ,  91.84    ,  93.41    ,\n",
       "        102.23    ,  90.03    , 102.57    ,  91.48    ,  91.25    ,\n",
       "         97.45    ,  98.55    , 124.87    , 117.      , 123.8     ,\n",
       "        140.71    , 142.13    , 147.81    , 152.2     , 163.07    ,\n",
       "        149.41    , 181.66    , 174.71    , 181.35    , 196.43    ,\n",
       "        187.58    , 191.96    , 270.3     , 291.38    , 295.35    ,\n",
       "        312.46    , 351.6     , 391.43    , 337.45    , 367.68    ,\n",
       "        374.13    , 301.78    , 286.13    , 267.66    , 339.5     ,\n",
       "        358.1     , 356.56    , 370.54    , 343.28    , 367.32    ,\n",
       "        322.99    , 293.75    , 267.62    , 287.41    , 314.66    ,\n",
       "        323.57    , 345.09    , 369.03    , 375.5     , 419.85    ,\n",
       "        419.73    , 455.04    , 488.88    , 529.56    , 500.03    ,\n",
       "        475.74    , 490.7     , 540.73    , 532.39    , 538.85    ,\n",
       "        521.66    , 513.47    , 502.81    , 528.21    , 517.57    ,\n",
       "        569.19    , 610.34    , 690.31    , 641.9     , 602.44    ,\n",
       "        427.14    ], dtype=float32)}"
      ]
     },
     "execution_count": 9,
     "metadata": {},
     "output_type": "execute_result"
    }
   ],
   "source": [
    "model_sn.predict_in_sample()"
   ]
  },
  {
   "cell_type": "code",
   "execution_count": 10,
   "id": "0cf6e89c",
   "metadata": {},
   "outputs": [],
   "source": [
    "residuals_train = train.values[12:] - model_sn.predict_in_sample()['fitted'][12:]"
   ]
  },
  {
   "cell_type": "code",
   "execution_count": 11,
   "id": "94cf3d31",
   "metadata": {},
   "outputs": [],
   "source": [
    "residuals_test = test.values - y_hat_dict['mean']"
   ]
  },
  {
   "cell_type": "code",
   "execution_count": 12,
   "id": "afe61e8a",
   "metadata": {},
   "outputs": [],
   "source": [
    "rmse_trian = np.sqrt(np.mean(residuals_train**2))\n",
    "rmse_test = np.sqrt(np.mean(residuals_test**2))"
   ]
  },
  {
   "cell_type": "code",
   "execution_count": 13,
   "id": "0a161f48",
   "metadata": {},
   "outputs": [],
   "source": [
    "tabla_modelos = pd.DataFrame(columns=['Modelo', 'RMSE Train', 'RMSE Test', 'Parametros'], data = [['Seasonal Naive', rmse_trian, rmse_test, 0]])\n",
    "     "
   ]
  },
  {
   "cell_type": "code",
   "execution_count": 14,
   "id": "1c844fb3",
   "metadata": {},
   "outputs": [
    {
     "data": {
      "text/html": [
       "<div>\n",
       "<style scoped>\n",
       "    .dataframe tbody tr th:only-of-type {\n",
       "        vertical-align: middle;\n",
       "    }\n",
       "\n",
       "    .dataframe tbody tr th {\n",
       "        vertical-align: top;\n",
       "    }\n",
       "\n",
       "    .dataframe thead th {\n",
       "        text-align: right;\n",
       "    }\n",
       "</style>\n",
       "<table border=\"1\" class=\"dataframe\">\n",
       "  <thead>\n",
       "    <tr style=\"text-align: right;\">\n",
       "      <th></th>\n",
       "      <th>Modelo</th>\n",
       "      <th>RMSE Train</th>\n",
       "      <th>RMSE Test</th>\n",
       "      <th>Parametros</th>\n",
       "    </tr>\n",
       "  </thead>\n",
       "  <tbody>\n",
       "    <tr>\n",
       "      <th>0</th>\n",
       "      <td>Seasonal Naive</td>\n",
       "      <td>134.981988</td>\n",
       "      <td>171.89285</td>\n",
       "      <td>0</td>\n",
       "    </tr>\n",
       "  </tbody>\n",
       "</table>\n",
       "</div>"
      ],
      "text/plain": [
       "           Modelo  RMSE Train  RMSE Test  Parametros\n",
       "0  Seasonal Naive  134.981988  171.89285           0"
      ]
     },
     "execution_count": 14,
     "metadata": {},
     "output_type": "execute_result"
    }
   ],
   "source": [
    "tabla_modelos"
   ]
  },
  {
   "cell_type": "code",
   "execution_count": 15,
   "id": "fe995625",
   "metadata": {},
   "outputs": [
    {
     "name": "stdout",
     "output_type": "stream",
     "text": [
      "Date\n",
      "2013-01-01 00:00:00-05:00   NaN\n",
      "2013-02-01 00:00:00-05:00   NaN\n",
      "2013-03-01 00:00:00-05:00   NaN\n",
      "2013-04-01 00:00:00-04:00   NaN\n",
      "2013-05-01 00:00:00-04:00   NaN\n",
      "                             ..\n",
      "2022-09-01 00:00:00-04:00   NaN\n",
      "2022-10-01 00:00:00-04:00   NaN\n",
      "2022-11-01 00:00:00-04:00   NaN\n",
      "2022-12-01 00:00:00-05:00   NaN\n",
      "2023-01-01 00:00:00-05:00   NaN\n",
      "Name: trend, Length: 121, dtype: float64\n",
      "Date\n",
      "2013-01-01 00:00:00-05:00     1.049447\n",
      "2013-02-01 00:00:00-05:00     4.918894\n",
      "2013-03-01 00:00:00-05:00    -0.748118\n",
      "2013-04-01 00:00:00-04:00   -14.894011\n",
      "2013-05-01 00:00:00-04:00   -11.101724\n",
      "                               ...    \n",
      "2022-09-01 00:00:00-04:00     5.144389\n",
      "2022-10-01 00:00:00-04:00     7.596010\n",
      "2022-11-01 00:00:00-04:00     3.423345\n",
      "2022-12-01 00:00:00-05:00     2.307501\n",
      "2023-01-01 00:00:00-05:00     1.049447\n",
      "Name: seasonal, Length: 121, dtype: float64\n",
      "Date\n",
      "2013-01-01 00:00:00-05:00   NaN\n",
      "2013-02-01 00:00:00-05:00   NaN\n",
      "2013-03-01 00:00:00-05:00   NaN\n",
      "2013-04-01 00:00:00-04:00   NaN\n",
      "2013-05-01 00:00:00-04:00   NaN\n",
      "                             ..\n",
      "2022-09-01 00:00:00-04:00   NaN\n",
      "2022-10-01 00:00:00-04:00   NaN\n",
      "2022-11-01 00:00:00-04:00   NaN\n",
      "2022-12-01 00:00:00-05:00   NaN\n",
      "2023-01-01 00:00:00-05:00   NaN\n",
      "Name: resid, Length: 121, dtype: float64\n",
      "Date\n",
      "2013-01-01 00:00:00-05:00     23.605715\n",
      "2013-02-01 00:00:00-05:00     26.868570\n",
      "2013-03-01 00:00:00-05:00     27.040001\n",
      "2013-04-01 00:00:00-04:00     30.867144\n",
      "2013-05-01 00:00:00-04:00     32.321430\n",
      "                                ...    \n",
      "2022-09-01 00:00:00-04:00    235.440002\n",
      "2022-10-01 00:00:00-04:00    291.880005\n",
      "2022-11-01 00:00:00-04:00    305.529999\n",
      "2022-12-01 00:00:00-05:00    294.880005\n",
      "2023-01-01 00:00:00-05:00    353.859985\n",
      "Name: Close, Length: 121, dtype: float64\n"
     ]
    }
   ],
   "source": [
    "from statsmodels.tsa.seasonal import seasonal_decompose\n",
    "result = seasonal_decompose(train, model='additive')\n",
    "print(result.trend)\n",
    "print(result.seasonal)\n",
    "print(result.resid)\n",
    "print(result.observed)"
   ]
  },
  {
   "cell_type": "code",
   "execution_count": 16,
   "id": "72acbc9c",
   "metadata": {},
   "outputs": [],
   "source": [
    "tendencia = result.trend"
   ]
  },
  {
   "cell_type": "code",
   "execution_count": 17,
   "id": "3466ee60",
   "metadata": {},
   "outputs": [],
   "source": [
    "tendencia = tendencia.dropna()"
   ]
  },
  {
   "cell_type": "code",
   "execution_count": 18,
   "id": "9226ded8",
   "metadata": {},
   "outputs": [
    {
     "data": {
      "text/plain": [
       "Date\n",
       "2022-03-01 00:00:00-05:00    380.410002\n",
       "2022-04-01 00:00:00-04:00    348.187918\n",
       "2022-05-01 00:00:00-04:00    317.571251\n",
       "2022-06-01 00:00:00-04:00    290.740833\n",
       "2022-07-01 00:00:00-04:00    274.872499\n",
       "Name: trend, dtype: float64"
      ]
     },
     "execution_count": 18,
     "metadata": {},
     "output_type": "execute_result"
    }
   ],
   "source": [
    "tendencia.tail()"
   ]
  },
  {
   "cell_type": "code",
   "execution_count": 19,
   "id": "6f234b74",
   "metadata": {},
   "outputs": [],
   "source": [
    "from statsforecast.models import RandomWalkWithDrift"
   ]
  },
  {
   "cell_type": "code",
   "execution_count": 20,
   "id": "d45eb605",
   "metadata": {},
   "outputs": [
    {
     "data": {
      "text/plain": [
       "109"
      ]
     },
     "execution_count": 20,
     "metadata": {},
     "output_type": "execute_result"
    }
   ],
   "source": [
    "model__stl_drift = RandomWalkWithDrift()\n",
    "model__stl_drift = model__stl_drift.fit(y=tendencia.values)\n",
    "y_hat_dict_trend = model__stl_drift.predict(h=horizon)\n",
    "\n",
    "y_hat_dict_trend['mean']\n",
    "len(model__stl_drift.predict_in_sample()[\"fitted\"])"
   ]
  },
  {
   "cell_type": "code",
   "execution_count": 21,
   "id": "04782bbe",
   "metadata": {},
   "outputs": [],
   "source": [
    "season = result.seasonal"
   ]
  },
  {
   "cell_type": "code",
   "execution_count": 22,
   "id": "e2e14bf1",
   "metadata": {},
   "outputs": [],
   "source": [
    "model_sn = SeasonalNaive(season_length=12)\n",
    "model_sn = model_sn.fit(y=season.values)\n",
    "y_hat_dict_season = model_sn.predict(h=horizon)\n",
    "\n",
    "y_hat_dict_season['mean']\n",
    "season_train_predict = model_sn.predict_in_sample()[\"fitted\"]"
   ]
  },
  {
   "cell_type": "code",
   "execution_count": 23,
   "id": "01b5a4b6",
   "metadata": {},
   "outputs": [],
   "source": [
    "season_train_predict = season_train_predict[~np.isnan(season_train_predict)]"
   ]
  },
  {
   "cell_type": "code",
   "execution_count": 24,
   "id": "b18290d5",
   "metadata": {},
   "outputs": [
    {
     "data": {
      "text/plain": [
       "109"
      ]
     },
     "execution_count": 24,
     "metadata": {},
     "output_type": "execute_result"
    }
   ],
   "source": [
    "len(season_train_predict)"
   ]
  },
  {
   "cell_type": "code",
   "execution_count": 25,
   "id": "9c2b1f3c",
   "metadata": {},
   "outputs": [],
   "source": [
    "predict_stl = model__stl_drift.predict_in_sample()[\"fitted\"] + season_train_predict"
   ]
  },
  {
   "cell_type": "code",
   "execution_count": 26,
   "id": "9ea7e11a",
   "metadata": {},
   "outputs": [],
   "source": [
    "y_hat = y_hat_dict_trend['mean'] + y_hat_dict_season['mean']"
   ]
  },
  {
   "cell_type": "code",
   "execution_count": 27,
   "id": "15a0dbfe",
   "metadata": {},
   "outputs": [],
   "source": [
    "predict_stl[0] = train.values[12]"
   ]
  },
  {
   "cell_type": "code",
   "execution_count": 28,
   "id": "71c2079a",
   "metadata": {},
   "outputs": [],
   "source": [
    "residuals_train = train.values[12:] - predict_stl\n",
    "residuals_test = test.values - y_hat\n",
    "rmse_train = np.sqrt(np.mean(residuals_train**2))\n",
    "rmse_test = np.sqrt(np.mean(residuals_test**2))"
   ]
  },
  {
   "cell_type": "code",
   "execution_count": 29,
   "id": "ade58078",
   "metadata": {},
   "outputs": [
    {
     "data": {
      "text/plain": [
       "(126.16859449163962, 91.40422566270085)"
      ]
     },
     "execution_count": 29,
     "metadata": {},
     "output_type": "execute_result"
    }
   ],
   "source": [
    "rmse_test, rmse_train"
   ]
  },
  {
   "cell_type": "code",
   "execution_count": 30,
   "id": "6a303c30",
   "metadata": {},
   "outputs": [],
   "source": [
    "tabla_modelos = pd.concat([tabla_modelos,\n",
    "           pd.DataFrame(columns=['Modelo', 'RMSE Train', 'RMSE Test', 'Parametros'],\n",
    "                        data = [['STL', rmse_train, rmse_test, 0]])])"
   ]
  },
  {
   "cell_type": "code",
   "execution_count": 31,
   "id": "81ee0c0d",
   "metadata": {},
   "outputs": [
    {
     "data": {
      "text/plain": [
       "Date\n",
       "2023-08-01 00:00:00+01:00    16.757130\n",
       "2023-09-01 00:00:00+01:00    17.403900\n",
       "2023-10-01 00:00:00+01:00    18.048100\n",
       "2023-11-01 00:00:00+00:00    17.282801\n",
       "2023-12-01 00:00:00+00:00    16.956200\n",
       "Name: Close, dtype: float64"
      ]
     },
     "execution_count": 31,
     "metadata": {},
     "output_type": "execute_result"
    }
   ],
   "source": [
    "stock = 'MXN=X'\n",
    "ticker = yf.Ticker(stock)\n",
    "usdmxn = ticker.history(start= '1993-01-01', end= '2023-12-31', interval='1mo')['Close']\n",
    "\n",
    "usdmxn.tail()"
   ]
  },
  {
   "cell_type": "code",
   "execution_count": 32,
   "id": "dd9787e7",
   "metadata": {},
   "outputs": [],
   "source": [
    "data = data[\"2003\":]"
   ]
  },
  {
   "cell_type": "code",
   "execution_count": 33,
   "id": "e52f5f76",
   "metadata": {},
   "outputs": [
    {
     "data": {
      "text/plain": [
       "Date\n",
       "2003-12-01    11.191\n",
       "2004-01-01    11.048\n",
       "2004-02-01    11.055\n",
       "2004-03-01    11.105\n",
       "2004-04-01    11.352\n",
       "Name: Close, dtype: float64"
      ]
     },
     "execution_count": 33,
     "metadata": {},
     "output_type": "execute_result"
    }
   ],
   "source": [
    "usdmxn.index = usdmxn.index.strftime('%Y-%m')\n",
    "usdmxn.index = pd.to_datetime(usdmxn.index)\n",
    "usdmxn.head()"
   ]
  },
  {
   "cell_type": "code",
   "execution_count": 34,
   "id": "34bea1c6",
   "metadata": {},
   "outputs": [
    {
     "data": {
      "text/html": [
       "<div>\n",
       "<style scoped>\n",
       "    .dataframe tbody tr th:only-of-type {\n",
       "        vertical-align: middle;\n",
       "    }\n",
       "\n",
       "    .dataframe tbody tr th {\n",
       "        vertical-align: top;\n",
       "    }\n",
       "\n",
       "    .dataframe thead th {\n",
       "        text-align: right;\n",
       "    }\n",
       "</style>\n",
       "<table border=\"1\" class=\"dataframe\">\n",
       "  <thead>\n",
       "    <tr style=\"text-align: right;\">\n",
       "      <th></th>\n",
       "      <th>Y</th>\n",
       "    </tr>\n",
       "    <tr>\n",
       "      <th>Date</th>\n",
       "      <th></th>\n",
       "    </tr>\n",
       "  </thead>\n",
       "  <tbody>\n",
       "    <tr>\n",
       "      <th>2013-01-01 00:00:00-05:00</th>\n",
       "      <td>23.605715</td>\n",
       "    </tr>\n",
       "    <tr>\n",
       "      <th>2013-02-01 00:00:00-05:00</th>\n",
       "      <td>26.868570</td>\n",
       "    </tr>\n",
       "    <tr>\n",
       "      <th>2013-03-01 00:00:00-05:00</th>\n",
       "      <td>27.040001</td>\n",
       "    </tr>\n",
       "    <tr>\n",
       "      <th>2013-04-01 00:00:00-04:00</th>\n",
       "      <td>30.867144</td>\n",
       "    </tr>\n",
       "    <tr>\n",
       "      <th>2013-05-01 00:00:00-04:00</th>\n",
       "      <td>32.321430</td>\n",
       "    </tr>\n",
       "  </tbody>\n",
       "</table>\n",
       "</div>"
      ],
      "text/plain": [
       "                                   Y\n",
       "Date                                \n",
       "2013-01-01 00:00:00-05:00  23.605715\n",
       "2013-02-01 00:00:00-05:00  26.868570\n",
       "2013-03-01 00:00:00-05:00  27.040001\n",
       "2013-04-01 00:00:00-04:00  30.867144\n",
       "2013-05-01 00:00:00-04:00  32.321430"
      ]
     },
     "execution_count": 34,
     "metadata": {},
     "output_type": "execute_result"
    }
   ],
   "source": [
    "data = pd.DataFrame(data.values, columns=['Y'], index=data.index)\n",
    "data.head()"
   ]
  },
  {
   "cell_type": "code",
   "execution_count": 35,
   "id": "4b59fc07",
   "metadata": {},
   "outputs": [
    {
     "data": {
      "text/html": [
       "<div>\n",
       "<style scoped>\n",
       "    .dataframe tbody tr th:only-of-type {\n",
       "        vertical-align: middle;\n",
       "    }\n",
       "\n",
       "    .dataframe tbody tr th {\n",
       "        vertical-align: top;\n",
       "    }\n",
       "\n",
       "    .dataframe thead th {\n",
       "        text-align: right;\n",
       "    }\n",
       "</style>\n",
       "<table border=\"1\" class=\"dataframe\">\n",
       "  <thead>\n",
       "    <tr style=\"text-align: right;\">\n",
       "      <th></th>\n",
       "      <th>Y</th>\n",
       "    </tr>\n",
       "    <tr>\n",
       "      <th>Date</th>\n",
       "      <th></th>\n",
       "    </tr>\n",
       "  </thead>\n",
       "  <tbody>\n",
       "    <tr>\n",
       "      <th>2013-01-01 00:00:00-05:00</th>\n",
       "      <td>23.605715</td>\n",
       "    </tr>\n",
       "    <tr>\n",
       "      <th>2013-02-01 00:00:00-05:00</th>\n",
       "      <td>26.868570</td>\n",
       "    </tr>\n",
       "    <tr>\n",
       "      <th>2013-03-01 00:00:00-05:00</th>\n",
       "      <td>27.040001</td>\n",
       "    </tr>\n",
       "    <tr>\n",
       "      <th>2013-04-01 00:00:00-04:00</th>\n",
       "      <td>30.867144</td>\n",
       "    </tr>\n",
       "    <tr>\n",
       "      <th>2013-05-01 00:00:00-04:00</th>\n",
       "      <td>32.321430</td>\n",
       "    </tr>\n",
       "    <tr>\n",
       "      <th>2013-06-01 00:00:00-04:00</th>\n",
       "      <td>30.155714</td>\n",
       "    </tr>\n",
       "    <tr>\n",
       "      <th>2013-07-01 00:00:00-04:00</th>\n",
       "      <td>34.925713</td>\n",
       "    </tr>\n",
       "    <tr>\n",
       "      <th>2013-08-01 00:00:00-04:00</th>\n",
       "      <td>40.558571</td>\n",
       "    </tr>\n",
       "    <tr>\n",
       "      <th>2013-09-01 00:00:00-04:00</th>\n",
       "      <td>44.172855</td>\n",
       "    </tr>\n",
       "    <tr>\n",
       "      <th>2013-10-01 00:00:00-04:00</th>\n",
       "      <td>46.068569</td>\n",
       "    </tr>\n",
       "    <tr>\n",
       "      <th>2013-11-01 00:00:00-04:00</th>\n",
       "      <td>52.257141</td>\n",
       "    </tr>\n",
       "    <tr>\n",
       "      <th>2013-12-01 00:00:00-05:00</th>\n",
       "      <td>52.595715</td>\n",
       "    </tr>\n",
       "    <tr>\n",
       "      <th>2014-01-01 00:00:00-05:00</th>\n",
       "      <td>58.475716</td>\n",
       "    </tr>\n",
       "    <tr>\n",
       "      <th>2014-02-01 00:00:00-05:00</th>\n",
       "      <td>63.661430</td>\n",
       "    </tr>\n",
       "    <tr>\n",
       "      <th>2014-03-01 00:00:00-05:00</th>\n",
       "      <td>50.290001</td>\n",
       "    </tr>\n",
       "    <tr>\n",
       "      <th>2014-04-01 00:00:00-04:00</th>\n",
       "      <td>46.005714</td>\n",
       "    </tr>\n",
       "    <tr>\n",
       "      <th>2014-05-01 00:00:00-04:00</th>\n",
       "      <td>59.689999</td>\n",
       "    </tr>\n",
       "    <tr>\n",
       "      <th>2014-06-01 00:00:00-04:00</th>\n",
       "      <td>62.942856</td>\n",
       "    </tr>\n",
       "    <tr>\n",
       "      <th>2014-07-01 00:00:00-04:00</th>\n",
       "      <td>60.388573</td>\n",
       "    </tr>\n",
       "    <tr>\n",
       "      <th>2014-08-01 00:00:00-04:00</th>\n",
       "      <td>68.234283</td>\n",
       "    </tr>\n",
       "    <tr>\n",
       "      <th>2014-09-01 00:00:00-04:00</th>\n",
       "      <td>64.454285</td>\n",
       "    </tr>\n",
       "    <tr>\n",
       "      <th>2014-10-01 00:00:00-04:00</th>\n",
       "      <td>56.110001</td>\n",
       "    </tr>\n",
       "    <tr>\n",
       "      <th>2014-11-01 00:00:00-04:00</th>\n",
       "      <td>49.512856</td>\n",
       "    </tr>\n",
       "    <tr>\n",
       "      <th>2014-12-01 00:00:00-05:00</th>\n",
       "      <td>48.801430</td>\n",
       "    </tr>\n",
       "  </tbody>\n",
       "</table>\n",
       "</div>"
      ],
      "text/plain": [
       "                                   Y\n",
       "Date                                \n",
       "2013-01-01 00:00:00-05:00  23.605715\n",
       "2013-02-01 00:00:00-05:00  26.868570\n",
       "2013-03-01 00:00:00-05:00  27.040001\n",
       "2013-04-01 00:00:00-04:00  30.867144\n",
       "2013-05-01 00:00:00-04:00  32.321430\n",
       "2013-06-01 00:00:00-04:00  30.155714\n",
       "2013-07-01 00:00:00-04:00  34.925713\n",
       "2013-08-01 00:00:00-04:00  40.558571\n",
       "2013-09-01 00:00:00-04:00  44.172855\n",
       "2013-10-01 00:00:00-04:00  46.068569\n",
       "2013-11-01 00:00:00-04:00  52.257141\n",
       "2013-12-01 00:00:00-05:00  52.595715\n",
       "2014-01-01 00:00:00-05:00  58.475716\n",
       "2014-02-01 00:00:00-05:00  63.661430\n",
       "2014-03-01 00:00:00-05:00  50.290001\n",
       "2014-04-01 00:00:00-04:00  46.005714\n",
       "2014-05-01 00:00:00-04:00  59.689999\n",
       "2014-06-01 00:00:00-04:00  62.942856\n",
       "2014-07-01 00:00:00-04:00  60.388573\n",
       "2014-08-01 00:00:00-04:00  68.234283\n",
       "2014-09-01 00:00:00-04:00  64.454285\n",
       "2014-10-01 00:00:00-04:00  56.110001\n",
       "2014-11-01 00:00:00-04:00  49.512856\n",
       "2014-12-01 00:00:00-05:00  48.801430"
      ]
     },
     "execution_count": 35,
     "metadata": {},
     "output_type": "execute_result"
    }
   ],
   "source": [
    "data.head(24)"
   ]
  },
  {
   "cell_type": "code",
   "execution_count": 36,
   "id": "f392570e",
   "metadata": {},
   "outputs": [
    {
     "data": {
      "text/html": [
       "<div>\n",
       "<style scoped>\n",
       "    .dataframe tbody tr th:only-of-type {\n",
       "        vertical-align: middle;\n",
       "    }\n",
       "\n",
       "    .dataframe tbody tr th {\n",
       "        vertical-align: top;\n",
       "    }\n",
       "\n",
       "    .dataframe thead th {\n",
       "        text-align: right;\n",
       "    }\n",
       "</style>\n",
       "<table border=\"1\" class=\"dataframe\">\n",
       "  <thead>\n",
       "    <tr style=\"text-align: right;\">\n",
       "      <th></th>\n",
       "      <th>Y</th>\n",
       "      <th>mes</th>\n",
       "    </tr>\n",
       "    <tr>\n",
       "      <th>Date</th>\n",
       "      <th></th>\n",
       "      <th></th>\n",
       "    </tr>\n",
       "  </thead>\n",
       "  <tbody>\n",
       "    <tr>\n",
       "      <th>2013-01-01 00:00:00-05:00</th>\n",
       "      <td>23.605715</td>\n",
       "      <td>January</td>\n",
       "    </tr>\n",
       "    <tr>\n",
       "      <th>2013-02-01 00:00:00-05:00</th>\n",
       "      <td>26.868570</td>\n",
       "      <td>February</td>\n",
       "    </tr>\n",
       "    <tr>\n",
       "      <th>2013-03-01 00:00:00-05:00</th>\n",
       "      <td>27.040001</td>\n",
       "      <td>March</td>\n",
       "    </tr>\n",
       "    <tr>\n",
       "      <th>2013-04-01 00:00:00-04:00</th>\n",
       "      <td>30.867144</td>\n",
       "      <td>April</td>\n",
       "    </tr>\n",
       "    <tr>\n",
       "      <th>2013-05-01 00:00:00-04:00</th>\n",
       "      <td>32.321430</td>\n",
       "      <td>May</td>\n",
       "    </tr>\n",
       "  </tbody>\n",
       "</table>\n",
       "</div>"
      ],
      "text/plain": [
       "                                   Y       mes\n",
       "Date                                          \n",
       "2013-01-01 00:00:00-05:00  23.605715   January\n",
       "2013-02-01 00:00:00-05:00  26.868570  February\n",
       "2013-03-01 00:00:00-05:00  27.040001     March\n",
       "2013-04-01 00:00:00-04:00  30.867144     April\n",
       "2013-05-01 00:00:00-04:00  32.321430       May"
      ]
     },
     "execution_count": 36,
     "metadata": {},
     "output_type": "execute_result"
    }
   ],
   "source": [
    "data['mes'] = data.index.month_name()\n",
    "data.head()"
   ]
  },
  {
   "cell_type": "code",
   "execution_count": 37,
   "id": "3bb65b11",
   "metadata": {},
   "outputs": [],
   "source": [
    "data = pd.get_dummies(data, columns=['mes'],\n",
    "                      prefix=\"\", prefix_sep=\"\",\n",
    "                      drop_first=True, dtype=float)"
   ]
  },
  {
   "cell_type": "code",
   "execution_count": 38,
   "id": "720aa2dc",
   "metadata": {},
   "outputs": [],
   "source": [
    "fecha_2008 = pd.Series(data = [1],\n",
    "                       index=pd.to_datetime([\"2008-11-01\"]),\n",
    "                       name='2008_outlier')\n",
    "fecha_2020 = pd.Series(data = [1],\n",
    "                       index=pd.to_datetime([\"2020-03-01\"]),\n",
    "                       name='2020_outlier')"
   ]
  },
  {
   "cell_type": "code",
   "execution_count": 39,
   "id": "40f7d592",
   "metadata": {},
   "outputs": [],
   "source": [
    "data = data.fillna(0)"
   ]
  },
  {
   "cell_type": "code",
   "execution_count": 40,
   "id": "f4c02463",
   "metadata": {},
   "outputs": [],
   "source": [
    "data['lag1'] = data['Y'].shift(1)\n",
    "data['lag2'] = data['Y'].shift(2)\n",
    "data['lag3'] = data['Y'].shift(3)\n",
    "data['lag4'] = data['Y'].shift(4)\n",
    "data['lag5'] = data['Y'].shift(5)\n",
    "data['lag6'] = data['Y'].shift(6)\n",
    "data['lag7'] = data['Y'].shift(7)\n",
    "data['lag8'] = data['Y'].shift(8)\n",
    "data['lag9'] = data['Y'].shift(9)\n",
    "data['lag10'] = data['Y'].shift(10)\n",
    "data['lag11'] = data['Y'].shift(11)\n",
    "data['lag12'] = data['Y'].shift(12)    "
   ]
  },
  {
   "cell_type": "code",
   "execution_count": 41,
   "id": "811ad704",
   "metadata": {},
   "outputs": [
    {
     "data": {
      "text/plain": [
       "Index(['Y', 'August', 'December', 'February', 'January', 'July', 'June',\n",
       "       'March', 'May', 'November', 'October', 'September', 'lag1', 'lag2',\n",
       "       'lag3', 'lag4', 'lag5', 'lag6', 'lag7', 'lag8', 'lag9', 'lag10',\n",
       "       'lag11', 'lag12'],\n",
       "      dtype='object')"
      ]
     },
     "execution_count": 41,
     "metadata": {},
     "output_type": "execute_result"
    }
   ],
   "source": [
    "data.columns"
   ]
  },
  {
   "cell_type": "code",
   "execution_count": 42,
   "id": "69c42103",
   "metadata": {},
   "outputs": [],
   "source": [
    "training_mask = data.index > '2023-01-01'"
   ]
  },
  {
   "cell_type": "code",
   "execution_count": 43,
   "id": "9fb95817",
   "metadata": {},
   "outputs": [],
   "source": [
    "test = data[training_mask]\n",
    "train = data[~training_mask]\n",
    "horizon = len(test)"
   ]
  },
  {
   "cell_type": "code",
   "execution_count": 44,
   "id": "b2eff058",
   "metadata": {},
   "outputs": [
    {
     "data": {
      "text/plain": [
       "11"
      ]
     },
     "execution_count": 44,
     "metadata": {},
     "output_type": "execute_result"
    }
   ],
   "source": [
    "horizon"
   ]
  },
  {
   "cell_type": "code",
   "execution_count": 45,
   "id": "de1cffc2",
   "metadata": {},
   "outputs": [],
   "source": [
    "train = train[\"2004\":]"
   ]
  },
  {
   "cell_type": "code",
   "execution_count": 46,
   "id": "653d7f34",
   "metadata": {},
   "outputs": [],
   "source": [
    "from sklearn.linear_model import LinearRegression"
   ]
  },
  {
   "cell_type": "code",
   "execution_count": 48,
   "id": "622ac51c",
   "metadata": {},
   "outputs": [],
   "source": [
    "train_cleaned = train.dropna()\n",
    "y_train_rl = LinearRegression().fit(train_cleaned.drop(columns=['Y']),\n",
    "                                    train_cleaned['Y']).predict(train_cleaned.drop(columns=['Y']))"
   ]
  },
  {
   "cell_type": "code",
   "execution_count": 49,
   "id": "79abbe87",
   "metadata": {},
   "outputs": [],
   "source": [
    "from sklearn.impute import SimpleImputer\n",
    "\n",
    "imputer = SimpleImputer(strategy='mean')\n",
    "X = train.drop(columns=['Y'])\n",
    "y = train['Y']\n",
    "\n",
    "X_imputed = imputer.fit_transform(X)\n",
    "\n",
    "# Train model\n",
    "y_train_rl = LinearRegression().fit(X_imputed, y).predict(X_imputed)"
   ]
  },
  {
   "cell_type": "code",
   "execution_count": 50,
   "id": "bb107034",
   "metadata": {},
   "outputs": [],
   "source": [
    "from sklearn.ensemble import HistGradientBoostingRegressor\n",
    "\n",
    "X = train.drop(columns=['Y'])\n",
    "y = train['Y']\n",
    "\n",
    "y_train_rl = HistGradientBoostingRegressor().fit(X, y).predict(X)"
   ]
  },
  {
   "cell_type": "code",
   "execution_count": 53,
   "id": "624d86c8",
   "metadata": {},
   "outputs": [],
   "source": [
    "test_cleaned = test.dropna()\n",
    "y_test_rl = LinearRegression().fit(test_cleaned.drop(columns=['Y']),\n",
    "                                    test_cleaned['Y']).predict(test_cleaned.drop(columns=['Y']))"
   ]
  },
  {
   "cell_type": "code",
   "execution_count": 54,
   "id": "6199986e",
   "metadata": {},
   "outputs": [],
   "source": [
    "imputer = SimpleImputer(strategy='mean')\n",
    "X = test.drop(columns=['Y'])\n",
    "y = test['Y']\n",
    "\n",
    "X_imputed = imputer.fit_transform(X)\n",
    "\n",
    "y_test_rl = LinearRegression().fit(X_imputed, y).predict(X_imputed)"
   ]
  },
  {
   "cell_type": "code",
   "execution_count": 56,
   "id": "089d2982",
   "metadata": {},
   "outputs": [],
   "source": [
    "X = test.drop(columns=['Y'])\n",
    "y = test['Y']\n",
    "\n",
    "y_test_rl = HistGradientBoostingRegressor().fit(X, y).predict(X)"
   ]
  },
  {
   "cell_type": "code",
   "execution_count": 57,
   "id": "a1e9a1da",
   "metadata": {},
   "outputs": [],
   "source": [
    "residuals_test = test['Y'].values - y_test_rl\n",
    "residuals_train = train['Y'].values - y_train_rl\n",
    "rmse_train = np.sqrt(np.mean(residuals_train**2))\n",
    "rmse_test = np.sqrt(np.mean(residuals_test**2))"
   ]
  },
  {
   "cell_type": "code",
   "execution_count": 58,
   "id": "8d28ec4c",
   "metadata": {},
   "outputs": [
    {
     "data": {
      "text/plain": [
       "(53.62638264627138, 21.149620590160087)"
      ]
     },
     "execution_count": 58,
     "metadata": {},
     "output_type": "execute_result"
    }
   ],
   "source": [
    "rmse_test, rmse_train"
   ]
  },
  {
   "cell_type": "code",
   "execution_count": 59,
   "id": "a346f203",
   "metadata": {},
   "outputs": [
    {
     "data": {
      "text/plain": [
       "25"
      ]
     },
     "execution_count": 59,
     "metadata": {},
     "output_type": "execute_result"
    }
   ],
   "source": [
    "len(train.columns) + 1"
   ]
  },
  {
   "cell_type": "code",
   "execution_count": 60,
   "id": "6a78e042",
   "metadata": {},
   "outputs": [],
   "source": [
    "tabla_modelos = pd.concat([tabla_modelos,\n",
    "           pd.DataFrame(columns=['Modelo', 'RMSE Train', 'RMSE Test', 'Parametros'],\n",
    "                        data = [['RL', rmse_train, rmse_test, 28]])])"
   ]
  },
  {
   "cell_type": "code",
   "execution_count": 61,
   "id": "c7896935",
   "metadata": {},
   "outputs": [],
   "source": [
    "from sklearn.linear_model import LassoCV"
   ]
  },
  {
   "cell_type": "code",
   "execution_count": 63,
   "id": "aa15c4b5",
   "metadata": {},
   "outputs": [
    {
     "name": "stdout",
     "output_type": "stream",
     "text": [
      "LassoCV Score: 0.953244043708771\n"
     ]
    }
   ],
   "source": [
    "from sklearn.impute import SimpleImputer\n",
    "from sklearn.linear_model import LassoCV\n",
    "\n",
    "# Separate features and target\n",
    "X_train = train.drop(columns=['Y'])\n",
    "y_train = train['Y']\n",
    "\n",
    "# Impute missing values\n",
    "imputer = SimpleImputer(strategy='mean')  # Replace NaNs with the mean of each column\n",
    "X_train_imputed = imputer.fit_transform(X_train)\n",
    "\n",
    "# Fit the LassoCV model\n",
    "lasso_cv = LassoCV(cv=5, random_state=0)\n",
    "lasso_cv.fit(X_train_imputed, y_train)\n",
    "\n",
    "# Evaluate the model\n",
    "lasso_score = lasso_cv.score(X_train_imputed, y_train)\n",
    "print(f\"LassoCV Score: {lasso_score}\")"
   ]
  },
  {
   "cell_type": "code",
   "execution_count": 64,
   "id": "3b1c57d0",
   "metadata": {},
   "outputs": [
    {
     "name": "stdout",
     "output_type": "stream",
     "text": [
      "LassoCV Score: 0.9618581650631767\n"
     ]
    }
   ],
   "source": [
    "# Drop rows with missing values\n",
    "train_cleaned = train.dropna()\n",
    "\n",
    "# Separate features and target\n",
    "X_train_cleaned = train_cleaned.drop(columns=['Y'])\n",
    "y_train_cleaned = train_cleaned['Y']\n",
    "\n",
    "# Fit the LassoCV model\n",
    "lasso_cv = LassoCV(cv=5, random_state=0)\n",
    "lasso_cv.fit(X_train_cleaned, y_train_cleaned)\n",
    "\n",
    "# Evaluate the model\n",
    "lasso_score = lasso_cv.score(X_train_cleaned, y_train_cleaned)\n",
    "print(f\"LassoCV Score: {lasso_score}\")"
   ]
  },
  {
   "cell_type": "code",
   "execution_count": 68,
   "id": "a6d01752",
   "metadata": {},
   "outputs": [
    {
     "data": {
      "text/html": [
       "<div>\n",
       "<style scoped>\n",
       "    .dataframe tbody tr th:only-of-type {\n",
       "        vertical-align: middle;\n",
       "    }\n",
       "\n",
       "    .dataframe tbody tr th {\n",
       "        vertical-align: top;\n",
       "    }\n",
       "\n",
       "    .dataframe thead th {\n",
       "        text-align: right;\n",
       "    }\n",
       "</style>\n",
       "<table border=\"1\" class=\"dataframe\">\n",
       "  <thead>\n",
       "    <tr style=\"text-align: right;\">\n",
       "      <th></th>\n",
       "      <th>Modelo</th>\n",
       "      <th>RMSE Train</th>\n",
       "      <th>RMSE Test</th>\n",
       "      <th>Parametros</th>\n",
       "    </tr>\n",
       "  </thead>\n",
       "  <tbody>\n",
       "    <tr>\n",
       "      <th>0</th>\n",
       "      <td>Seasonal Naive</td>\n",
       "      <td>134.981988</td>\n",
       "      <td>171.892850</td>\n",
       "      <td>0</td>\n",
       "    </tr>\n",
       "    <tr>\n",
       "      <th>0</th>\n",
       "      <td>STL</td>\n",
       "      <td>91.404226</td>\n",
       "      <td>126.168594</td>\n",
       "      <td>0</td>\n",
       "    </tr>\n",
       "    <tr>\n",
       "      <th>0</th>\n",
       "      <td>RL</td>\n",
       "      <td>21.149621</td>\n",
       "      <td>53.626383</td>\n",
       "      <td>28</td>\n",
       "    </tr>\n",
       "  </tbody>\n",
       "</table>\n",
       "</div>"
      ],
      "text/plain": [
       "           Modelo  RMSE Train   RMSE Test  Parametros\n",
       "0  Seasonal Naive  134.981988  171.892850           0\n",
       "0             STL   91.404226  126.168594           0\n",
       "0              RL   21.149621   53.626383          28"
      ]
     },
     "execution_count": 68,
     "metadata": {},
     "output_type": "execute_result"
    }
   ],
   "source": [
    "tabla_modelos"
   ]
  }
 ],
 "metadata": {
  "kernelspec": {
   "display_name": "Python 3 (ipykernel)",
   "language": "python",
   "name": "python3"
  },
  "language_info": {
   "codemirror_mode": {
    "name": "ipython",
    "version": 3
   },
   "file_extension": ".py",
   "mimetype": "text/x-python",
   "name": "python",
   "nbconvert_exporter": "python",
   "pygments_lexer": "ipython3",
   "version": "3.11.5"
  }
 },
 "nbformat": 4,
 "nbformat_minor": 5
}
