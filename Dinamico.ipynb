{
 "cells": [
  {
   "cell_type": "code",
   "execution_count": 1,
   "id": "0ba04941",
   "metadata": {},
   "outputs": [],
   "source": [
    "import pandas as pd\n",
    "import numpy as np\n",
    "import matplotlib.pyplot as plt\n",
    "from statsforecast.models import AutoARIMA\n",
    "from statsforecast import StatsForecast\n",
    "from statsforecast.arima import arima_string"
   ]
  },
  {
   "cell_type": "code",
   "execution_count": 2,
   "id": "1c88c2b4",
   "metadata": {},
   "outputs": [
    {
     "data": {
      "text/plain": [
       "Date\n",
       "2013-01-01 00:00:00-05:00    23.605715\n",
       "2013-02-01 00:00:00-05:00    26.868570\n",
       "2013-03-01 00:00:00-05:00    27.040001\n",
       "2013-04-01 00:00:00-04:00    30.867144\n",
       "2013-05-01 00:00:00-04:00    32.321430\n",
       "Name: Close, dtype: float64"
      ]
     },
     "execution_count": 2,
     "metadata": {},
     "output_type": "execute_result"
    }
   ],
   "source": [
    "import yfinance as yf\n",
    "\n",
    "stock = \"NFLX\"\n",
    "ticker = yf.Ticker(stock)\n",
    "data = ticker.history(start=\"2013-01-01\", end=\"2023-12-31\", interval=\"1mo\")[\"Close\"]\n",
    "data.head()"
   ]
  },
  {
   "cell_type": "code",
   "execution_count": 3,
   "id": "11679f22",
   "metadata": {},
   "outputs": [],
   "source": [
    "df = pd.DataFrame(data).reset_index()"
   ]
  },
  {
   "cell_type": "code",
   "execution_count": 4,
   "id": "386ddf1c",
   "metadata": {},
   "outputs": [],
   "source": [
    "df['Date'] = df['Date'].dt.tz_localize(None)"
   ]
  },
  {
   "cell_type": "code",
   "execution_count": 5,
   "id": "b0dfcbab",
   "metadata": {
    "scrolled": true
   },
   "outputs": [
    {
     "data": {
      "text/html": [
       "<div>\n",
       "<style scoped>\n",
       "    .dataframe tbody tr th:only-of-type {\n",
       "        vertical-align: middle;\n",
       "    }\n",
       "\n",
       "    .dataframe tbody tr th {\n",
       "        vertical-align: top;\n",
       "    }\n",
       "\n",
       "    .dataframe thead th {\n",
       "        text-align: right;\n",
       "    }\n",
       "</style>\n",
       "<table border=\"1\" class=\"dataframe\">\n",
       "  <thead>\n",
       "    <tr style=\"text-align: right;\">\n",
       "      <th></th>\n",
       "      <th>ds</th>\n",
       "      <th>y</th>\n",
       "      <th>unique_id</th>\n",
       "    </tr>\n",
       "  </thead>\n",
       "  <tbody>\n",
       "    <tr>\n",
       "      <th>0</th>\n",
       "      <td>2013-01-01</td>\n",
       "      <td>23.605715</td>\n",
       "      <td>Netflix</td>\n",
       "    </tr>\n",
       "    <tr>\n",
       "      <th>1</th>\n",
       "      <td>2013-02-01</td>\n",
       "      <td>26.868570</td>\n",
       "      <td>Netflix</td>\n",
       "    </tr>\n",
       "    <tr>\n",
       "      <th>2</th>\n",
       "      <td>2013-03-01</td>\n",
       "      <td>27.040001</td>\n",
       "      <td>Netflix</td>\n",
       "    </tr>\n",
       "    <tr>\n",
       "      <th>3</th>\n",
       "      <td>2013-04-01</td>\n",
       "      <td>30.867144</td>\n",
       "      <td>Netflix</td>\n",
       "    </tr>\n",
       "    <tr>\n",
       "      <th>4</th>\n",
       "      <td>2013-05-01</td>\n",
       "      <td>32.321430</td>\n",
       "      <td>Netflix</td>\n",
       "    </tr>\n",
       "  </tbody>\n",
       "</table>\n",
       "</div>"
      ],
      "text/plain": [
       "          ds          y unique_id\n",
       "0 2013-01-01  23.605715   Netflix\n",
       "1 2013-02-01  26.868570   Netflix\n",
       "2 2013-03-01  27.040001   Netflix\n",
       "3 2013-04-01  30.867144   Netflix\n",
       "4 2013-05-01  32.321430   Netflix"
      ]
     },
     "execution_count": 5,
     "metadata": {},
     "output_type": "execute_result"
    }
   ],
   "source": [
    "df[\"unique_id\"]=\"Netflix\"\n",
    "df.columns=[\"ds\", \"y\", \"unique_id\"]\n",
    "df.head()"
   ]
  },
  {
   "cell_type": "code",
   "execution_count": 6,
   "id": "ebf7854f",
   "metadata": {},
   "outputs": [],
   "source": [
    "models = [AutoARIMA(season_length=12)]"
   ]
  },
  {
   "cell_type": "code",
   "execution_count": 7,
   "id": "f6f6e2f4",
   "metadata": {},
   "outputs": [
    {
     "name": "stderr",
     "output_type": "stream",
     "text": [
      "C:\\Users\\pacol\\anaconda3\\Lib\\site-packages\\statsforecast\\core.py:474: FutureWarning: The `df` argument of the StatsForecast constructor as well as reusing stored dfs from other methods is deprecated and will raise an error in a future version. Please provide the `df` argument to the corresponding method instead, e.g. fit/forecast.\n",
      "  warnings.warn(\n"
     ]
    }
   ],
   "source": [
    "sf = StatsForecast(df=df,\n",
    "    models=models,\n",
    "    freq='MS',\n",
    "    n_jobs=1,\n",
    ")"
   ]
  },
  {
   "cell_type": "code",
   "execution_count": 8,
   "id": "02960e05",
   "metadata": {},
   "outputs": [
    {
     "name": "stderr",
     "output_type": "stream",
     "text": [
      "C:\\Users\\pacol\\anaconda3\\Lib\\site-packages\\statsforecast\\core.py:474: FutureWarning: The `df` argument of the StatsForecast constructor as well as reusing stored dfs from other methods is deprecated and will raise an error in a future version. Please provide the `df` argument to the corresponding method instead, e.g. fit/forecast.\n",
      "  warnings.warn(\n"
     ]
    },
    {
     "data": {
      "text/plain": [
       "StatsForecast(models=[AutoARIMA])"
      ]
     },
     "execution_count": 8,
     "metadata": {},
     "output_type": "execute_result"
    }
   ],
   "source": [
    "sf.fit()"
   ]
  },
  {
   "cell_type": "code",
   "execution_count": 9,
   "id": "7cd7687d",
   "metadata": {},
   "outputs": [
    {
     "data": {
      "text/plain": [
       "'ARIMA(2,1,0)                   '"
      ]
     },
     "execution_count": 9,
     "metadata": {},
     "output_type": "execute_result"
    }
   ],
   "source": [
    "arima_string(sf.fitted_[0,0].model_)"
   ]
  },
  {
   "cell_type": "code",
   "execution_count": 10,
   "id": "33ed5d6a",
   "metadata": {},
   "outputs": [
    {
     "data": {
      "text/html": [
       "<div>\n",
       "<style scoped>\n",
       "    .dataframe tbody tr th:only-of-type {\n",
       "        vertical-align: middle;\n",
       "    }\n",
       "\n",
       "    .dataframe tbody tr th {\n",
       "        vertical-align: top;\n",
       "    }\n",
       "\n",
       "    .dataframe thead th {\n",
       "        text-align: right;\n",
       "    }\n",
       "</style>\n",
       "<table border=\"1\" class=\"dataframe\">\n",
       "  <thead>\n",
       "    <tr style=\"text-align: right;\">\n",
       "      <th></th>\n",
       "      <th>ds</th>\n",
       "      <th>unique_id</th>\n",
       "    </tr>\n",
       "  </thead>\n",
       "  <tbody>\n",
       "    <tr>\n",
       "      <th>0</th>\n",
       "      <td>2024-01-01</td>\n",
       "      <td>Remesas</td>\n",
       "    </tr>\n",
       "    <tr>\n",
       "      <th>1</th>\n",
       "      <td>2024-02-01</td>\n",
       "      <td>Remesas</td>\n",
       "    </tr>\n",
       "    <tr>\n",
       "      <th>2</th>\n",
       "      <td>2024-03-01</td>\n",
       "      <td>Remesas</td>\n",
       "    </tr>\n",
       "  </tbody>\n",
       "</table>\n",
       "</div>"
      ],
      "text/plain": [
       "          ds unique_id\n",
       "0 2024-01-01   Remesas\n",
       "1 2024-02-01   Remesas\n",
       "2 2024-03-01   Remesas"
      ]
     },
     "execution_count": 10,
     "metadata": {},
     "output_type": "execute_result"
    }
   ],
   "source": [
    "x_df = pd.DataFrame({\"ds\": [pd.to_datetime('2024-01-01'), pd.to_datetime('2024-02-01'), pd.to_datetime('2024-03-01')],\n",
    "                     \"unique_id\": [\"Remesas\", \"Remesas\", \"Remesas\"]})\n",
    "x_df.head()"
   ]
  },
  {
   "cell_type": "code",
   "execution_count": 11,
   "id": "3fa45362",
   "metadata": {},
   "outputs": [
    {
     "name": "stderr",
     "output_type": "stream",
     "text": [
      "C:\\Users\\pacol\\anaconda3\\Lib\\site-packages\\statsforecast\\core.py:474: FutureWarning: The `df` argument of the StatsForecast constructor as well as reusing stored dfs from other methods is deprecated and will raise an error in a future version. Please provide the `df` argument to the corresponding method instead, e.g. fit/forecast.\n",
      "  warnings.warn(\n",
      "C:\\Users\\pacol\\anaconda3\\Lib\\site-packages\\statsforecast\\arima.py:1612: UserWarning: xreg not required by this model, ignoring the provided regressors\n",
      "  warnings.warn(\n",
      "C:\\Users\\pacol\\anaconda3\\Lib\\site-packages\\statsforecast\\core.py:492: FutureWarning: In a future version the predictions will have the id as a column. You can set the `NIXTLA_ID_AS_COL` environment variable to adopt the new behavior and to suppress this warning.\n",
      "  warnings.warn(\n",
      "C:\\Users\\pacol\\anaconda3\\Lib\\site-packages\\statsforecast\\core.py:492: FutureWarning: In a future version the predictions will have the id as a column. You can set the `NIXTLA_ID_AS_COL` environment variable to adopt the new behavior and to suppress this warning.\n",
      "  warnings.warn(\n"
     ]
    }
   ],
   "source": [
    "Y_hat_df = sf.forecast(3, X_df=x_df ,fitted=True)\n",
    "values = sf.forecast_fitted_values()     "
   ]
  },
  {
   "cell_type": "code",
   "execution_count": 12,
   "id": "1f21dfb8",
   "metadata": {},
   "outputs": [
    {
     "data": {
      "text/html": [
       "<div>\n",
       "<style scoped>\n",
       "    .dataframe tbody tr th:only-of-type {\n",
       "        vertical-align: middle;\n",
       "    }\n",
       "\n",
       "    .dataframe tbody tr th {\n",
       "        vertical-align: top;\n",
       "    }\n",
       "\n",
       "    .dataframe thead th {\n",
       "        text-align: right;\n",
       "    }\n",
       "</style>\n",
       "<table border=\"1\" class=\"dataframe\">\n",
       "  <thead>\n",
       "    <tr style=\"text-align: right;\">\n",
       "      <th></th>\n",
       "      <th>ds</th>\n",
       "      <th>y</th>\n",
       "      <th>unique_id</th>\n",
       "      <th>autoarima_original</th>\n",
       "    </tr>\n",
       "  </thead>\n",
       "  <tbody>\n",
       "    <tr>\n",
       "      <th>0</th>\n",
       "      <td>2013-01-01</td>\n",
       "      <td>23.605715</td>\n",
       "      <td>Netflix</td>\n",
       "      <td>23.582109</td>\n",
       "    </tr>\n",
       "    <tr>\n",
       "      <th>1</th>\n",
       "      <td>2013-02-01</td>\n",
       "      <td>26.868570</td>\n",
       "      <td>Netflix</td>\n",
       "      <td>23.667139</td>\n",
       "    </tr>\n",
       "    <tr>\n",
       "      <th>2</th>\n",
       "      <td>2013-03-01</td>\n",
       "      <td>27.040001</td>\n",
       "      <td>Netflix</td>\n",
       "      <td>27.315296</td>\n",
       "    </tr>\n",
       "    <tr>\n",
       "      <th>3</th>\n",
       "      <td>2013-04-01</td>\n",
       "      <td>30.867144</td>\n",
       "      <td>Netflix</td>\n",
       "      <td>27.506388</td>\n",
       "    </tr>\n",
       "    <tr>\n",
       "      <th>4</th>\n",
       "      <td>2013-05-01</td>\n",
       "      <td>32.321430</td>\n",
       "      <td>Netflix</td>\n",
       "      <td>31.345575</td>\n",
       "    </tr>\n",
       "  </tbody>\n",
       "</table>\n",
       "</div>"
      ],
      "text/plain": [
       "          ds          y unique_id  autoarima_original\n",
       "0 2013-01-01  23.605715   Netflix           23.582109\n",
       "1 2013-02-01  26.868570   Netflix           23.667139\n",
       "2 2013-03-01  27.040001   Netflix           27.315296\n",
       "3 2013-04-01  30.867144   Netflix           27.506388\n",
       "4 2013-05-01  32.321430   Netflix           31.345575"
      ]
     },
     "execution_count": 12,
     "metadata": {},
     "output_type": "execute_result"
    }
   ],
   "source": [
    "df['autoarima_original'] = values['AutoARIMA'].values\n",
    "df.head()"
   ]
  },
  {
   "cell_type": "code",
   "execution_count": 13,
   "id": "b68f5358",
   "metadata": {},
   "outputs": [
    {
     "data": {
      "image/png": "[encoded data removed]",
      "text/plain": [
       "<Figure size 640x480 with 1 Axes>"
      ]
     },
     "metadata": {},
     "output_type": "display_data"
    }
   ],
   "source": [
    "_, ax = plt.subplots(1, 1)\n",
    "df[['y', 'autoarima_original']].plot(ax=ax, linewidth=2)\n",
    "ax.set_title('', fontsize=22)\n",
    "ax.set_ylabel('', fontsize=20)\n",
    "ax.set_xlabel('Mes', fontsize=12)\n",
    "ax.legend(prop={'size': 15})\n",
    "ax.grid(True)"
   ]
  }
 ],
 "metadata": {
  "kernelspec": {
   "display_name": "Python 3 (ipykernel)",
   "language": "python",
   "name": "python3"
  },
  "language_info": {
   "codemirror_mode": {
    "name": "ipython",
    "version": 3
   },
   "file_extension": ".py",
   "mimetype": "text/x-python",
   "name": "python",
   "nbconvert_exporter": "python",
   "pygments_lexer": "ipython3",
   "version": "3.11.5"
  }
 },
 "nbformat": 4,
 "nbformat_minor": 5
}
